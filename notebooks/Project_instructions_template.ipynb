{
 "cells": [
  {
   "cell_type": "raw",
   "metadata": {},
   "source": [
    "---\n",
    "title: \"My Data-Driven Analysis\"\n",
    "author: \"Student My Name\"\n",
    "format:\n",
    "  html:\n",
    "    number-sections: true\n",
    "  pdf:\n",
    "    number-sections: true\n",
    "---"
   ]
  },
  {
   "cell_type": "markdown",
   "metadata": {},
   "source": [
    "Begin by changing title, author in the first cell of the notebook."
   ]
  },
  {
   "cell_type": "markdown",
   "metadata": {},
   "source": [
    "\n",
    "# Introduction:\n",
    "\n",
    "In this assignment, you will have the opportunity to explore a data-driven question or problem of your choice. The aim of this assignment is for you to engage in a data-driven project from start to finish. It is a great way to develop practical skills in data analysis and apply what you have learned in class about Python. \n",
    "\n",
    "The goal is to follow a comprehensive data analysis process, including data collection, data preparation, data exploration, data analysis, and to draw conclusions based on your findings, as well as suggested next steps. "
   ]
  },
  {
   "cell_type": "markdown",
   "metadata": {},
   "source": [
    "\n",
    "Project Structure:\n",
    "\n",
    "Your project should be structured into three main sections:\n"
   ]
  },
  {
   "cell_type": "markdown",
   "metadata": {},
   "source": [
    "\n",
    "# Motivation (Data-Driven Question or Problem):\n",
    "\n",
    "Describe the data-driven question or problem that you will explore. \n",
    "\n",
    "This should be a real-world issue or question that you find interesting.\n",
    "\n",
    "Explain why this question or problem is important or relevant. What motivated you to choose it?\n"
   ]
  },
  {
   "cell_type": "markdown",
   "metadata": {},
   "source": [
    "Any text / image"
   ]
  },
  {
   "cell_type": "code",
   "execution_count": null,
   "metadata": {},
   "outputs": [],
   "source": [
    "# Any code"
   ]
  },
  {
   "cell_type": "markdown",
   "metadata": {},
   "source": [
    "\n",
    "# Solution (Data Analysis Process):\n",
    "\n",
    "A tentative roadmap is the following:\n",
    "\n",
    "Data Collection:\n",
    "\n",
    "Explain where and how you obtained the data for your analysis. Provide details on the data source, format, and any challenges you encountered during data collection. The code implementing the collection should be here. Either generate the data dynamically in the notebook as a first step (if the process is light enough), or provide files storing the collected data (additional code used to generate the data should be provided).\n"
   ]
  },
  {
   "cell_type": "markdown",
   "metadata": {},
   "source": [
    "Any text / image"
   ]
  },
  {
   "cell_type": "code",
   "execution_count": null,
   "metadata": {},
   "outputs": [],
   "source": [
    "# Any code"
   ]
  },
  {
   "cell_type": "markdown",
   "metadata": {},
   "source": [
    "\n",
    "Data Preparation:\n",
    "\n",
    "Describe briefly the steps you took to clean and preprocess the data. This may include handling missing values, outliers, and data transformation.\n"
   ]
  },
  {
   "cell_type": "markdown",
   "metadata": {},
   "source": [
    "Any text / image"
   ]
  },
  {
   "cell_type": "code",
   "execution_count": null,
   "metadata": {},
   "outputs": [],
   "source": [
    "# Any code"
   ]
  },
  {
   "cell_type": "markdown",
   "metadata": {},
   "source": [
    "Data Exploration:\n",
    "\n",
    "Present your exploratory data analysis findings. Use descriptive statistics, visualizations, and summary tables to gain insights into the data."
   ]
  },
  {
   "cell_type": "markdown",
   "metadata": {},
   "source": [
    "Any text / image"
   ]
  },
  {
   "cell_type": "code",
   "execution_count": null,
   "metadata": {},
   "outputs": [],
   "source": [
    "# Any code"
   ]
  },
  {
   "cell_type": "markdown",
   "metadata": {},
   "source": [
    "\n",
    "Data Analysis or Light Modeling:\n",
    "\n",
    "Conduct the data analysis required to address your data-driven question. You may apply basic statistical methods, create indicators from your data, or any other relevant tools.\n",
    "Explain your approach, methodology, and any assumptions made during analysis.\n"
   ]
  },
  {
   "cell_type": "markdown",
   "metadata": {},
   "source": [
    "Any text / image"
   ]
  },
  {
   "cell_type": "code",
   "execution_count": null,
   "metadata": {},
   "outputs": [],
   "source": [
    "# Any code"
   ]
  },
  {
   "cell_type": "markdown",
   "metadata": {},
   "source": [
    "# Findings (Conclusions, Impact and Next Steps):\n",
    "\n",
    "## Conclusions:\n",
    "\n",
    "Summarize the key findings and insights obtained from your analysis. What did you discover in relation to your data-driven question or problem?\n",
    "\n",
    "If applicable, highlight any metric or indicators that emerged from your analysis.\n",
    "\n",
    "## Impact:\n",
    "\n",
    "Discuss briefly the real-world implications of your findings. How can the insights from your analysis be applied to address the original question or problem?\n",
    "\n",
    "## Next steps:\n",
    "Provide recommendations or next steps for further investigation or action.\n"
   ]
  },
  {
   "cell_type": "markdown",
   "metadata": {},
   "source": [
    "# Instructions\n",
    "\n",
    "## Submission Requirements:\n",
    "\n",
    "Your assignment should be submitted as a well-structured report, including text, figures, tables, and Python code using a Jupyter Notebook. \n",
    "\n",
    "Document the data sources and code used in your analysis.\n",
    "Make your report reader-friendly and ensure that your analysis and findings are well-explained and justified.\n",
    "\n",
    "Submit both the Jupyter Notebook and a rendered html file (using Quarto) before Oct 20 23:59. \n",
    "\n",
    "Additionally, prepare for your live presentation on Oct 22, where you will demonstrate the Solution and discuss the Motivation and Findings. During the Solution demonstration show something that you learned about Python.\n",
    "\n",
    "We will take time to setup in class a working development environment based on [miniconda](https://docs.conda.io/projects/miniconda/en/latest/) providing you a Python distribution + `conda` allowing you to manage the install of Python packages, create and manage Python isolated environments etc. We will also install a text editor `VS Code`, allowing with extensions ([Python](https://code.visualstudio.com/docs/languages/python)/[Jupyter](https://code.visualstudio.com/docs/datascience/jupyter-notebooks)) to run Jupyter Notebooks within VS Code. Then we will install Quarto (both [cli](https://quarto.org/docs/get-started/) + VS Code extension), allowing you to produce a document (.html, .pdf or slides) from a Jupyter Notebook within VS Code. \n",
    "\n",
    "In the online version of Wes McKinney (creator of pands) book `Python for Data Analysis, 3E`, a [section (1.4 Installation and Setup)](https://wesmckinney.com/book/preliminaries#installation_and_setup) is dedicated to installing `miniconda` and using `conda` to manage environment and install packages.  \n",
    "\n",
    "As a soft deadline to kick off your project, consider submitting me via email your idea of project and data source before Sep 20.\n",
    "\n",
    "If you lack inspiration, consider looking at Open Data initiatives like for example the one by [French Government](https://www.data.gouv.fr/en/), or any other Area/Region/Country office of statistics/Internationnal Organization etc.\n",
    "\n",
    "\n",
    "\n",
    "## Grading Criteria:\n",
    "\n",
    "Your assignment will be graded based on the following criteria:\n",
    "\n",
    "* Clarity and relevance of the data-driven question or problem. (10%)\n",
    "\n",
    "* The Solution:\n",
    "\n",
    "    * Quality of data collection and preparation.\n",
    "\n",
    "    * Depth and effectiveness of data exploration.\n",
    "\n",
    "    * Richness of the data analysis and its results. Alignment with the initial question or problem.\n",
    "\n",
    "    * Appropriateness of the modeling techniques (if used). \n",
    "\n",
    "    * Quality of the code (correct, readable, documented)\n",
    "\n",
    "    * Altogether (70%)\n",
    "\n",
    "* Findings. (10%)\n",
    "\n",
    "* Your presentation. (10%)\n",
    "\n",
    "## Additional Tips:\n",
    "\n",
    "I encourage you to select data sets and questions that genuinely interest you to drive your motivation."
   ]
  }
 ],
 "metadata": {
  "kernelspec": {
   "display_name": "teaching-python",
   "language": "python",
   "name": "python3"
  },
  "language_info": {
   "name": "python",
   "version": "3.10.12"
  },
  "orig_nbformat": 4
 },
 "nbformat": 4,
 "nbformat_minor": 2
}
