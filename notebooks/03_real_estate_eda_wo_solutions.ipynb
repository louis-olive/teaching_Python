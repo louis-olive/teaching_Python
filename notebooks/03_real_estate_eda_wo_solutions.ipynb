{
 "cells": [
  {
   "cell_type": "code",
   "execution_count": 1,
   "metadata": {},
   "outputs": [],
   "source": [
    "import pandas as pd\n",
    "import numpy as np\n",
    "import matplotlib.pyplot as plt"
   ]
  },
  {
   "cell_type": "markdown",
   "metadata": {},
   "source": [
    "\n",
    "# Case study: entering a new real estate market\n",
    "\n",
    "\n",
    "You work for a real estate company that would like to be more data-driven, and you are the main expert of data analysis in the company, so you are in a very strategic role at the moment.\n",
    "\n",
    "The CEO needs to decide whether it's worth entering in a new market or not. In order to do so in a data-informed decision, he asks your help to perform an Exploratory Data Analysis on the listing ads that have been published for a particular city, and provide insights that might be useful to understand how \"hot\" the market is, what are some characteristics of the market in terms of price and housing characteritics, etc.\n",
    "In this notebook, you will perfom this analyis, more instructions are given in file `03_real_estate_eda_description.txt`. "
   ]
  },
  {
   "cell_type": "code",
   "execution_count": 2,
   "metadata": {},
   "outputs": [],
   "source": [
    "import os\n",
    "from IPython.display import Image as Img\n",
    "\n",
    "dir_data = '../data'\n",
    "\n",
    "dir_assets = './assets'\n",
    "\n",
    "def img_colab(img_path):\n",
    "    '''\n",
    "    Helper function returning an image to be displayed by Jupyter Notebook / IPython.display module.\n",
    "    \n",
    "    Parameters\n",
    "    ----------\n",
    "    path : path to image\n",
    "        The image should be in a child folder \"./assets\".\n",
    "    '''\n",
    "\n",
    "    display(Img(os.path.join(dir_assets, img_path)))\n",
    "    return None"
   ]
  }
 ],
 "metadata": {
  "kernelspec": {
   "display_name": "teaching-python",
   "language": "python",
   "name": "python3"
  },
  "language_info": {
   "codemirror_mode": {
    "name": "ipython",
    "version": 3
   },
   "file_extension": ".py",
   "mimetype": "text/x-python",
   "name": "python",
   "nbconvert_exporter": "python",
   "pygments_lexer": "ipython3",
   "version": "3.10.12"
  }
 },
 "nbformat": 4,
 "nbformat_minor": 2
}
